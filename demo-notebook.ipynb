{
 "cells": [
  {
   "cell_type": "markdown",
   "metadata": {},
   "source": [
    "In this exploration we analyze the demographics and movie preferences of our customer base.  Our larger objective is to connect customers to relevant content in our inventory.  \n",
    "\n",
    "We may be interested in segmenting our population on any number of features, to enable the use of different strategies to promote content specifically tailored to each segment. Although we will not run a segmentation analysis in this demo, we can begin the process by quickly looking if there are any obvious groups of users based on their demographics."
   ]
  },
  {
   "cell_type": "code",
   "execution_count": 1,
   "metadata": {
    "_datascience": {}
   },
   "outputs": [],
   "source": [
    "# Install packages\n",
    "from IPython.display import clear_output\n",
    "import warnings\n",
    "warnings.filterwarnings('ignore')\n",
    "\n",
    "!pip install plotly\n",
    "\n",
    "!sudo apt-get update\n",
    "!sudo apt-get -y install libsqlite3-dev;\n",
    "!pip install pyzipcode;\n",
    "\n",
    "%matplotlib inline\n",
    "\n",
    "clear_output()"
   ]
  },
  {
   "cell_type": "code",
   "execution_count": 2,
   "metadata": {},
   "outputs": [
    {
     "data": {
      "text/html": [
       "<script>requirejs.config({paths: { 'plotly': ['https://cdn.plot.ly/plotly-latest.min']},});if(!window.Plotly) {{require(['plotly'],function(plotly) {window.Plotly=plotly;});}}</script>"
      ],
      "text/vnd.plotly.v1+html": [
       "<script>requirejs.config({paths: { 'plotly': ['https://cdn.plot.ly/plotly-latest.min']},});if(!window.Plotly) {{require(['plotly'],function(plotly) {window.Plotly=plotly;});}}</script>"
      ]
     },
     "metadata": {},
     "output_type": "display_data"
    }
   ],
   "source": [
    "# Import packages\n",
    "import os\n",
    "import pandas as pd\n",
    "import numpy as np\n",
    "from scipy.spatial.distance import pdist, cosine\n",
    "from matplotlib import pyplot as plt\n",
    "\n",
    "from plotly import tools\n",
    "import plotly.plotly as py\n",
    "import plotly.graph_objs as go\n",
    "from plotly.offline import download_plotlyjs, init_notebook_mode, plot, iplot\n",
    "init_notebook_mode(connected=True)\n",
    "pd.options.display.max_columns = 999\n",
    "#Note:  Don't use `clear_outputs` in the cells that import and initialize plotly\n",
    "#as it clears out the embedded plotly javascript needed for the plots"
   ]
  },
  {
   "cell_type": "code",
   "execution_count": 3,
   "metadata": {
    "_datascience": {},
    "collapsed": true
   },
   "outputs": [],
   "source": [
    "#Import from local packages\n",
    "\n",
    "import featurize_helpers.functions as fhf\n",
    "import plotting_helpers.functions as phf\n",
    "\n",
    "clear_output()"
   ]
  },
  {
   "cell_type": "markdown",
   "metadata": {
    "_datascience": {}
   },
   "source": [
    "# About the Data"
   ]
  },
  {
   "cell_type": "code",
   "execution_count": 4,
   "metadata": {
    "_datascience": {},
    "collapsed": true
   },
   "outputs": [],
   "source": [
    "# Load the data\n",
    "data_dir = 'data/'\n",
    "\n",
    "users = pd.read_csv(data_dir + 'u.user', sep = '|', names = ['user_id', 'age', 'sex', 'occupation', 'zip_code'],\n",
    "                    encoding = 'latin-1')\n",
    "\n",
    "ratings = pd.read_csv(data_dir + 'u.data', sep = '\\t', names = ['user_id', 'movie_id', 'rating', 'unix_timestamp'],\n",
    "                    encoding = 'latin-1')\n",
    "\n",
    "items = pd.read_csv(data_dir + 'u.item', sep = '|', \n",
    "                    names = ['movie id', 'movie title' ,'release date','video release date', \n",
    "                             'IMDb URL', 'unknown', 'Action', 'Adventure','Animation', \n",
    "                             'Children\\'s', 'Comedy', 'Crime', 'Documentary', 'Drama', 'Fantasy',\n",
    "                             'Film-Noir', 'Horror', 'Musical', 'Mystery', 'Romance', 'Sci-Fi', \n",
    "                             'Thriller', 'War', 'Western'],\n",
    "                    encoding = 'latin-1')\n",
    "\n",
    "# Create Features\n",
    "users['state'] = users.apply(lambda row: fhf.get_zip_data(row.zip_code, 'state'), axis = 1)\n",
    "\n",
    "user_features, user_demographics, normed_user_movie_ratings = fhf.get_user_features(users, items, ratings)\n",
    "user_features['zip_code'] = users['zip_code']\n",
    "item_features, item_names, item_ids = fhf.get_item_features(items)"
   ]
  },
  {
   "cell_type": "code",
   "execution_count": null,
   "metadata": {
    "_datascience": {}
   },
   "outputs": [],
   "source": [
    "pd.set_option('display.max_columns', 5000)\n",
    "user_features.head()"
   ]
  },
  {
   "cell_type": "code",
   "execution_count": null,
   "metadata": {
    "_datascience": {}
   },
   "outputs": [],
   "source": [
    "item_features.head()"
   ]
  },
  {
   "cell_type": "markdown",
   "metadata": {
    "_datascience": {
     "keep": false,
     "summary": false
    }
   },
   "source": [
    "# Exploratory Analysis"
   ]
  },
  {
   "cell_type": "markdown",
   "metadata": {
    "_datascience": {
     "keep": false,
     "summary": false
    }
   },
   "source": [
    "## User Demographics"
   ]
  },
  {
   "cell_type": "code",
   "execution_count": null,
   "metadata": {
    "_datascience": {}
   },
   "outputs": [],
   "source": [
    "traces, layout = phf.user_scatter_plot(user_features)\n",
    "fig = go.Figure(data=traces, layout=layout)\n",
    "iplot(fig, show_link=False) "
   ]
  },
  {
   "cell_type": "code",
   "execution_count": null,
   "metadata": {
    "_datascience": {
     "keep": false,
     "summary": false
    },
    "scrolled": false
   },
   "outputs": [],
   "source": [
    "trace, layout = phf.user_job_stacked_bar(user_features)\n",
    "fig = go.Figure(data=trace, layout=layout)\n",
    "iplot(fig, show_link=False) "
   ]
  },
  {
   "cell_type": "markdown",
   "metadata": {
    "_datascience": {
     "keep": false,
     "summary": false
    }
   },
   "source": [
    "### Results summary\n",
    "\n",
    "1.  Fill in an insight in this markup cell\n",
    "\n",
    "2.  Fill in another insight"
   ]
  },
  {
   "cell_type": "markdown",
   "metadata": {
    "_datascience": {
     "keep": true
    }
   },
   "source": [
    "# Comparison of inventory volume to average rating for each genre "
   ]
  },
  {
   "cell_type": "code",
   "execution_count": 9,
   "metadata": {},
   "outputs": [
    {
     "data": {
      "application/vnd.plotly.v1+json": {
       "data": [
        {
         "marker": {
          "color": "rgba(171, 50, 96, 0.6)",
          "line": {
           "color": "rgba(171, 50, 96, 1.0)",
           "width": 1
          }
         },
         "name": "Percentage of movies in genre",
         "orientation": "h",
         "type": "bar",
         "x": [
          1,
          1,
          1,
          1,
          2,
          2,
          2,
          2,
          3,
          3,
          4,
          4,
          5,
          9,
          9,
          9,
          17,
          25
         ],
         "xaxis": "x1",
         "y": [
          "Fantasy",
          "Film-Noir",
          "Western",
          "Animation",
          "Documentary",
          "War",
          "Musical",
          "Mystery",
          "Horror",
          "Sci-Fi",
          "Children's",
          "Crime",
          "Adventure",
          "Romance",
          "Thriller",
          "Action",
          "Comedy",
          "Drama"
         ],
         "yaxis": "y1"
        },
        {
         "marker": {
          "color": "rgba(50, 171, 96, 0.6)",
          "line": {
           "color": "rgba(50, 171, 96, 1.0)",
           "width": 1
          }
         },
         "name": "Percentage users rating genre high",
         "orientation": "h",
         "type": "bar",
         "x": [
          33,
          62,
          43,
          41,
          58,
          42,
          32,
          35,
          26,
          27,
          27,
          34,
          26,
          27,
          20,
          21,
          16,
          30
         ],
         "xaxis": "x2",
         "y": [
          "Fantasy",
          "Film-Noir",
          "Western",
          "Animation",
          "Documentary",
          "War",
          "Musical",
          "Mystery",
          "Horror",
          "Sci-Fi",
          "Children's",
          "Crime",
          "Adventure",
          "Romance",
          "Thriller",
          "Action",
          "Comedy",
          "Drama"
         ],
         "yaxis": "y2"
        }
       ],
       "layout": {
        "legend": {
         "font": {
          "size": 10
         },
         "x": 0.029,
         "y": 1.038
        },
        "margin": {
         "b": 70,
         "l": 100,
         "r": 20,
         "t": 70
        },
        "paper_bgcolor": "rgb(248, 248, 255)",
        "plot_bgcolor": "rgb(248, 248, 255)",
        "xaxis1": {
         "anchor": "y1",
         "domain": [
          0,
          0.42
         ],
         "showgrid": true,
         "showline": false,
         "showticklabels": true,
         "zeroline": false
        },
        "xaxis2": {
         "anchor": "y2",
         "domain": [
          0.47,
          1
         ],
         "showgrid": true,
         "showline": false,
         "showticklabels": true,
         "zeroline": false
        },
        "yaxis1": {
         "anchor": "x1",
         "domain": [
          0,
          0.85
         ],
         "linewidth": 1,
         "showgrid": false,
         "showline": true,
         "showticklabels": true
        },
        "yaxis2": {
         "anchor": "x2",
         "domain": [
          0,
          0.85
         ],
         "linewidth": 1,
         "showgrid": false,
         "showline": true,
         "showticklabels": false
        }
       }
      },
      "text/html": [
       "<div id=\"b6008f0f-7079-4a2a-b784-a740553e3ea4\" style=\"height: 525px; width: 100%;\" class=\"plotly-graph-div\"></div><script type=\"text/javascript\">require([\"plotly\"], function(Plotly) { window.PLOTLYENV=window.PLOTLYENV || {};window.PLOTLYENV.BASE_URL=\"https://plot.ly\";Plotly.newPlot(\"b6008f0f-7079-4a2a-b784-a740553e3ea4\", [{\"orientation\": \"h\", \"yaxis\": \"y1\", \"marker\": {\"color\": \"rgba(171, 50, 96, 0.6)\", \"line\": {\"color\": \"rgba(171, 50, 96, 1.0)\", \"width\": 1}}, \"xaxis\": \"x1\", \"y\": [\"Fantasy\", \"Film-Noir\", \"Western\", \"Animation\", \"Documentary\", \"War\", \"Musical\", \"Mystery\", \"Horror\", \"Sci-Fi\", \"Children's\", \"Crime\", \"Adventure\", \"Romance\", \"Thriller\", \"Action\", \"Comedy\", \"Drama\"], \"x\": [1.0, 1.0, 1.0, 1.0, 2.0, 2.0, 2.0, 2.0, 3.0, 3.0, 4.0, 4.0, 5.0, 9.0, 9.0, 9.0, 17.0, 25.0], \"type\": \"bar\", \"name\": \"Percentage of movies in genre\"}, {\"orientation\": \"h\", \"yaxis\": \"y2\", \"marker\": {\"color\": \"rgba(50, 171, 96, 0.6)\", \"line\": {\"color\": \"rgba(50, 171, 96, 1.0)\", \"width\": 1}}, \"xaxis\": \"x2\", \"y\": [\"Fantasy\", \"Film-Noir\", \"Western\", \"Animation\", \"Documentary\", \"War\", \"Musical\", \"Mystery\", \"Horror\", \"Sci-Fi\", \"Children's\", \"Crime\", \"Adventure\", \"Romance\", \"Thriller\", \"Action\", \"Comedy\", \"Drama\"], \"x\": [33.0, 62.0, 43.0, 41.0, 58.0, 42.0, 32.0, 35.0, 26.0, 27.0, 27.0, 34.0, 26.0, 27.0, 20.0, 21.0, 16.0, 30.0], \"type\": \"bar\", \"name\": \"Percentage users rating genre high\"}], {\"paper_bgcolor\": \"rgb(248, 248, 255)\", \"plot_bgcolor\": \"rgb(248, 248, 255)\", \"xaxis2\": {\"domain\": [0.47, 1], \"showticklabels\": true, \"showgrid\": true, \"zeroline\": false, \"showline\": false, \"anchor\": \"y2\"}, \"xaxis1\": {\"domain\": [0, 0.42], \"showticklabels\": true, \"showgrid\": true, \"zeroline\": false, \"showline\": false, \"anchor\": \"y1\"}, \"yaxis1\": {\"domain\": [0, 0.85], \"showticklabels\": true, \"showgrid\": false, \"showline\": true, \"linewidth\": 1, \"anchor\": \"x1\"}, \"yaxis2\": {\"domain\": [0, 0.85], \"showticklabels\": false, \"showgrid\": false, \"showline\": true, \"linewidth\": 1, \"anchor\": \"x2\"}, \"margin\": {\"r\": 20, \"b\": 70, \"t\": 70, \"l\": 100}, \"legend\": {\"y\": 1.038, \"x\": 0.029, \"font\": {\"size\": 10}}}, {\"linkText\": \"Export to plot.ly\", \"showLink\": false})});</script>"
      ],
      "text/vnd.plotly.v1+html": [
       "<div id=\"b6008f0f-7079-4a2a-b784-a740553e3ea4\" style=\"height: 525px; width: 100%;\" class=\"plotly-graph-div\"></div><script type=\"text/javascript\">require([\"plotly\"], function(Plotly) { window.PLOTLYENV=window.PLOTLYENV || {};window.PLOTLYENV.BASE_URL=\"https://plot.ly\";Plotly.newPlot(\"b6008f0f-7079-4a2a-b784-a740553e3ea4\", [{\"orientation\": \"h\", \"yaxis\": \"y1\", \"marker\": {\"color\": \"rgba(171, 50, 96, 0.6)\", \"line\": {\"color\": \"rgba(171, 50, 96, 1.0)\", \"width\": 1}}, \"xaxis\": \"x1\", \"y\": [\"Fantasy\", \"Film-Noir\", \"Western\", \"Animation\", \"Documentary\", \"War\", \"Musical\", \"Mystery\", \"Horror\", \"Sci-Fi\", \"Children's\", \"Crime\", \"Adventure\", \"Romance\", \"Thriller\", \"Action\", \"Comedy\", \"Drama\"], \"x\": [1.0, 1.0, 1.0, 1.0, 2.0, 2.0, 2.0, 2.0, 3.0, 3.0, 4.0, 4.0, 5.0, 9.0, 9.0, 9.0, 17.0, 25.0], \"type\": \"bar\", \"name\": \"Percentage of movies in genre\"}, {\"orientation\": \"h\", \"yaxis\": \"y2\", \"marker\": {\"color\": \"rgba(50, 171, 96, 0.6)\", \"line\": {\"color\": \"rgba(50, 171, 96, 1.0)\", \"width\": 1}}, \"xaxis\": \"x2\", \"y\": [\"Fantasy\", \"Film-Noir\", \"Western\", \"Animation\", \"Documentary\", \"War\", \"Musical\", \"Mystery\", \"Horror\", \"Sci-Fi\", \"Children's\", \"Crime\", \"Adventure\", \"Romance\", \"Thriller\", \"Action\", \"Comedy\", \"Drama\"], \"x\": [33.0, 62.0, 43.0, 41.0, 58.0, 42.0, 32.0, 35.0, 26.0, 27.0, 27.0, 34.0, 26.0, 27.0, 20.0, 21.0, 16.0, 30.0], \"type\": \"bar\", \"name\": \"Percentage users rating genre high\"}], {\"paper_bgcolor\": \"rgb(248, 248, 255)\", \"plot_bgcolor\": \"rgb(248, 248, 255)\", \"xaxis2\": {\"domain\": [0.47, 1], \"showticklabels\": true, \"showgrid\": true, \"zeroline\": false, \"showline\": false, \"anchor\": \"y2\"}, \"xaxis1\": {\"domain\": [0, 0.42], \"showticklabels\": true, \"showgrid\": true, \"zeroline\": false, \"showline\": false, \"anchor\": \"y1\"}, \"yaxis1\": {\"domain\": [0, 0.85], \"showticklabels\": true, \"showgrid\": false, \"showline\": true, \"linewidth\": 1, \"anchor\": \"x1\"}, \"yaxis2\": {\"domain\": [0, 0.85], \"showticklabels\": false, \"showgrid\": false, \"showline\": true, \"linewidth\": 1, \"anchor\": \"x2\"}, \"margin\": {\"r\": 20, \"b\": 70, \"t\": 70, \"l\": 100}, \"legend\": {\"y\": 1.038, \"x\": 0.029, \"font\": {\"size\": 10}}}, {\"linkText\": \"Export to plot.ly\", \"showLink\": false})});</script>"
      ]
     },
     "metadata": {},
     "output_type": "display_data"
    }
   ],
   "source": [
    "trace0, trace1, layout = phf.inventory_hbar(user_features, item_features)\n",
    "\n",
    "# Creating two subplots, one for each of the two bar plots defined above\n",
    "fig = tools.make_subplots(rows=1, cols=2, specs=[[{}, {}]], shared_xaxes=True,\n",
    "                          shared_yaxes=False, vertical_spacing=0.001, print_grid=False)\n",
    "\n",
    "# Add the bar plots to the figure\n",
    "fig.append_trace(trace0, 1, 1)\n",
    "fig.append_trace(trace1, 1, 2)\n",
    "\n",
    "fig['layout'].update(layout)\n",
    "iplot(fig, show_link=False) "
   ]
  },
  {
   "cell_type": "markdown",
   "metadata": {
    "_datascience": {
     "keep": true
    }
   },
   "source": [
    "### Results\n",
    "\n",
    "1.  Drama and Comedy make up most of our library.\n",
    "\n",
    "2.  Severely lacking in fantasy, animation, westerns, and film-noir.\n",
    "\n",
    "3.  Users who watched Film-Noir, War, and Documentary movies rated them very highly, but Drama and Comedy movies are lower quality.\n",
    "        a. We should consider getting more Film-Noir, War, and Documentary movies.\n",
    "        b. We should consider improving our Drama and Comedy selections."
   ]
  },
  {
   "cell_type": "markdown",
   "metadata": {
    "_datascience": {
     "keep": true,
     "summary": true
    }
   },
   "source": [
    "# Overlap in movie interests"
   ]
  },
  {
   "cell_type": "code",
   "execution_count": 10,
   "metadata": {},
   "outputs": [
    {
     "data": {
      "image/png": "[encoded data removed]",
      "text/plain": [
       "<matplotlib.figure.Figure at 0x7f0c93ad6dd0>"
      ]
     },
     "metadata": {},
     "output_type": "display_data"
    }
   ],
   "source": [
    "phf.conditional_interest(user_features, item_features)"
   ]
  },
  {
   "cell_type": "markdown",
   "metadata": {
    "_datascience": {
     "keep": true,
     "summary": true
    }
   },
   "source": [
    "### Results\n",
    "\n",
    "1.  People who like Children's movies also like animation, but not vice versa.\n",
    "\n",
    "2.  Fantasy is very polarized.  If people aren't in the group who rates it 4+ stars, they rate it very low across the board.\n",
    "\n",
    "3.  War and Film-noir are highly rated across all groups.\n",
    "\n",
    "4.  There is significant overlap in interest between Horror and Thriller."
   ]
  }
 ],
 "metadata": {
  "_datascience": {
   "analyst": "Harry",
   "notebookId": 13,
   "notebook_path": "Onboarding/Demos/onboarding-demo-insights.ipynb",
   "post_id": "AVndIBsdcIjrRax4nR6a",
   "tags": "onboarding"
  },
  "anaconda-cloud": {},
  "kernelspec": {
   "display_name": "Python 2",
   "language": "python",
   "name": "python2"
  },
  "language_info": {
   "codemirror_mode": {
    "name": "ipython",
    "version": 2
   },
   "file_extension": ".py",
   "mimetype": "text/x-python",
   "name": "python",
   "nbconvert_exporter": "python",
   "pygments_lexer": "ipython2",
   "version": "2.7.13"
  }
 },
 "nbformat": 4,
 "nbformat_minor": 2
}
